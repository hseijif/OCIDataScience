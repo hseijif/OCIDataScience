{
 "cells": [
  {
   "cell_type": "markdown",
   "id": "f389686a",
   "metadata": {},
   "source": [
    "# Notebook Data & AI Fast Track\n",
    "## Notebook 1 - Utilizando as bibliotecas de ADS, AutoML Publicando o modelo e o colocando em Produção\n",
    "### Para executar os comandos contidos em cada célula, é necessário colocar o cursor na célula e pressionar no teclado \"Ctrl + Enter\""
   ]
  },
  {
   "cell_type": "markdown",
   "id": "f5a87dd9",
   "metadata": {},
   "source": [
    "#### Vamos ajustar a versão da biblioteca ADS"
   ]
  },
  {
   "cell_type": "code",
   "execution_count": null,
   "id": "9e375b5b",
   "metadata": {},
   "outputs": [],
   "source": [
    "!pip install oracle-ads==2.5.9\n",
    "!pip install -U oci"
   ]
  },
  {
   "cell_type": "markdown",
   "id": "3fc0cfdc",
   "metadata": {},
   "source": [
    "#### Agora é hora de carregar na memória a maioria das bibliotecas e funções que serão utilizadas neste script"
   ]
  },
  {
   "cell_type": "code",
   "execution_count": null,
   "id": "79b225d9",
   "metadata": {},
   "outputs": [],
   "source": [
    "def algo_selec(model):\n",
    "    trials = model.model_selection_trials_\n",
    "    fig, ax = plt.subplots(1)\n",
    "    colors = []\n",
    "    scores = [x[3] for x in trials]\n",
    "    models = [x[0] for x in trials]\n",
    "    y_margin = 0.10 * (max(scores) - min(scores))\n",
    "    s = pd.Series(scores, index=models).sort_values(ascending=False)\n",
    "    ax.set_title(\"Algorithm Selection Trials\")\n",
    "    for f in s.keys():\n",
    "        if f == '{}_AS'.format(est_pred.selected_model_):\n",
    "            colors.append('orange')\n",
    "        elif s[f] >= s.mean():\n",
    "            colors.append('teal')\n",
    "        else:\n",
    "            colors.append('turquoise')\n",
    "    ax.set_ylim(min(scores) - y_margin, max(scores) + y_margin)\n",
    "    s.plot.bar(ax=ax, color=colors, edgecolor='black')\n",
    "    ax.axhline(y=s.mean(), color='black', linewidth=0.5)\n",
    "    return(plt.show())\n",
    "\n",
    "def adap_sample(model):\n",
    "    trials = model.adaptive_sampling_trials_\n",
    "    fig, ax = plt.subplots(1)\n",
    "    ax.set_title(\"Adaptive Sampling ({})\".format(trials[0][0]))\n",
    "    ax.set_xlabel('Dataset sample size')\n",
    "    ax.set_ylabel(r\"Predicted model score\")\n",
    "    scores = [x[3] for x in trials]\n",
    "    n_samples = [x[1] for x in trials]\n",
    "    y_margin = 0.10 * (max(scores) - min(scores))\n",
    "    ax.grid(color='g', linestyle='-', linewidth=0.1)\n",
    "    ax.set_ylim(min(scores) - y_margin, max(scores) + y_margin)\n",
    "    ax.plot(n_samples, scores, 'k:', marker=\"s\", color='teal', markersize=3)\n",
    "    return(plt.show())\n",
    "\n",
    "def feat_selec(model):\n",
    "    trials = model.feature_selection_trials_\n",
    "    fig, ax = plt.subplots(1)\n",
    "    ax.set_title(\"Feature Selection Trials\")\n",
    "    ax.set_xlabel(\"Number of Features\")\n",
    "    ax.set_ylabel(r\"Predicted model score\")\n",
    "    scores = [x[3] for x in trials]\n",
    "    n_features = [x[2] for x in trials]\n",
    "    y_margin = 0.10 * (max(scores) - min(scores))\n",
    "    ax.grid(color='g', linestyle='-', linewidth=0.1)\n",
    "    ax.set_ylim(min(scores) - y_margin, max(scores) + y_margin)\n",
    "    ax.plot(n_features, scores, 'k:', marker=\"s\", color='teal', markersize=3)\n",
    "    ax.axvline(x=len(model.selected_features_names_), color='orange', linewidth=2.0)\n",
    "    return(plt.show())\n",
    "\n",
    "def hyper_tuning(model):\n",
    "    trials = model.tuning_trials_\n",
    "    fig, ax = plt.subplots(1)\n",
    "    ax.set_title(\"Hyperparameter Tuning Trials\")\n",
    "    ax.set_xlabel(\"Iteration $n$\")\n",
    "    ax.set_ylabel(r\"Computer model score\")\n",
    "    scores = [x[3] for x in reversed(trials)]\n",
    "    y_margin = 0.10 * (max(scores) - min(scores))\n",
    "    ax.grid(color='g', linestyle='-', linewidth=0.1)\n",
    "    ax.set_ylim(min(scores) - y_margin, max(scores) + y_margin)\n",
    "    ax.plot(range(1, len(trials) + 1), scores, 'k:', marker=\"s\", color='teal', markersize=3)\n",
    "    return(plt.show())"
   ]
  },
  {
   "cell_type": "code",
   "execution_count": null,
   "id": "47357a1c",
   "metadata": {},
   "outputs": [],
   "source": [
    "%matplotlib inline\n",
    "\n",
    "import io\n",
    "import tempfile\n",
    "import uuid\n",
    "import ads\n",
    "import mlx\n",
    "import oci\n",
    "import logging\n",
    "import warnings\n",
    "import numpy as np \n",
    "import pandas as pd\n",
    "import matplotlib.pyplot as plt\n",
    "import os\n",
    "\n",
    "import seaborn as sn\n",
    "import automl\n",
    "plt.style.use('ggplot')\n",
    "\n",
    "from os import path\n",
    "from ads.common import auth as authutil\n",
    "from ads.dataset.factory import DatasetFactory\n",
    "from ads import set_documentation_mode\n",
    "from ads import set_auth\n",
    "from ads.dataflow.dataflow import DataFlow\n",
    "from ads.common.model import ADSModel\n",
    "from ads.automl.provider import OracleAutoMLProvider\n",
    "from ads.automl.driver import AutoML\n",
    "from ads.common.data import ADSData\n",
    "from ads.evaluations.evaluator import ADSEvaluator\n",
    "from ads.catalog.model import ModelCatalog\n",
    "from ads.common.model import ADSModel\n",
    "from ads.model.deployment import ModelDeployer, ModelDeploymentProperties\n",
    "from ads.common.model_export_util import prepare_generic_model\n",
    "from ads.evaluations.evaluator import ADSEvaluator\n",
    "from ads.explanations.explainer import ADSExplainer\n",
    "from ads.explanations.mlx_global_explainer import MLXGlobalExplainer\n",
    "from ads.explanations.mlx_local_explainer import MLXLocalExplainer\n",
    "from automl import Pipeline, init\n",
    "from ads.model.deployment import ModelDeployer, ModelDeploymentProperties\n",
    "from ads.common.model_export_util import prepare_generic_model\n",
    "from oci.data_science import DataScienceClient, DataScienceClientCompositeOperations\n",
    "from oci.auth.signers import get_resource_principals_signer\n",
    "from oci.data_science.models import ModelConfigurationDetails, InstanceConfiguration, \\\n",
    "                                    FixedSizeScalingPolicy, CategoryLogDetails, LogDetails, \\\n",
    "                                    SingleModelDeploymentConfigurationDetails, CreateModelDeploymentDetails\n",
    "from ads.database import connection \n",
    "from ads.database.connection import Connector\n",
    "from ads.dataset.factory import DatasetFactory\n",
    "from ads.vault.vault import Vault\n",
    "from ads.common.oci_logging import OCILogGroup\n",
    "from ads.common.auth import default_signer\n",
    "from mlx import PermutationImportance\n",
    "from sklearn.metrics import ConfusionMatrixDisplay\n",
    "from sklearn.metrics import accuracy_score\n",
    "from sklearn import metrics\n",
    "from sklearn.metrics import classification_report\n",
    "from sqlalchemy import create_engine\n",
    "from urllib.request import urlopen\n",
    "\n",
    "ads.set_auth(auth=\"resource_principal\")\n",
    "set_documentation_mode(False)\n",
    "warnings.filterwarnings(\"ignore\", category=DeprecationWarning) \n",
    "warnings.filterwarnings('ignore')\n",
    "logging.basicConfig(format='%(levelname)s:%(message)s', level=logging.ERROR)"
   ]
  },
  {
   "cell_type": "markdown",
   "id": "8c16fcc9",
   "metadata": {},
   "source": [
    "#### É possível acessar o conjunto de dados diretamente do Git"
   ]
  },
  {
   "cell_type": "code",
   "execution_count": null,
   "id": "b38540c6",
   "metadata": {},
   "outputs": [],
   "source": [
    "df_listings = DatasetFactory.open(pd.read_csv(\"https://raw.githubusercontent.com/rafaelrdias/cliente/main/Arquivos/listings_summary.csv\"))"
   ]
  },
  {
   "attachments": {},
   "cell_type": "markdown",
   "id": "105e1e88",
   "metadata": {},
   "source": [
    "#### Puxando a informação direto do banco de dados, substituir os valores abaixo pelos do cliente, se e somente se o conjunto de dados que consta no arquivo listings_summary.csv foi carregado num Autonomous Database do cliente"
   ]
  },
  {
   "cell_type": "code",
   "execution_count": null,
   "id": "5c43659a",
   "metadata": {},
   "outputs": [],
   "source": [
    "connection_parameters = {\n",
    "    \"user_name\": \"Admin\",\n",
    "    \"password\": \"XXXXXXXXXXX\",\n",
    "    \"service_name\": \"bdtestes_medium\",\n",
    "    \"wallet_location\": \"Wallet_bdtestes.zip\",\n",
    "}"
   ]
  },
  {
   "cell_type": "code",
   "execution_count": null,
   "id": "59119c8d",
   "metadata": {},
   "outputs": [],
   "source": [
    "%%time\n",
    "df = pd.DataFrame.ads.read_sql(\n",
    "    \"SELECT * FROM ADMIN.LISTINGS_SUMMARY\",\n",
    "    connection_parameters=connection_parameters,\n",
    ")"
   ]
  },
  {
   "cell_type": "code",
   "execution_count": null,
   "id": "29ec8d83",
   "metadata": {},
   "outputs": [],
   "source": [
    "%%time\n",
    "df_listings = DatasetFactory.open(df)"
   ]
  },
  {
   "attachments": {},
   "cell_type": "markdown",
   "id": "b9c1dc68",
   "metadata": {},
   "source": [
    "#### O arquivo com o conjunto de dados de locação de imóveis pode ser acessado através de conexão com um Object Storage -> Neste caso o arquivo listings_summary.csv deverá estar num bucket no ambiente do cliente\n",
    "\n",
    "#### **** Importante: Será necessário trocar o nome do \"namespace\" contido entre aspas, para tanto:\n",
    "#### - Acessar o menu de hamburguer, clicar em \"Storage\" e após em \"Bucket\"\n",
    "#### - Na próxima tela, copiar o nome e após clicar no bucket \"YYYYYYYYY\", isto abrirá uma nova tela, e então, copiar o código contido em \"Namespace:\" (o código contem letras e números)\n",
    "#### - Colar as respectivas informações no lugar dos Y e X para \"bucket_name\" e \"namespace\""
   ]
  },
  {
   "cell_type": "code",
   "execution_count": null,
   "id": "6af9f0d0",
   "metadata": {},
   "outputs": [],
   "source": [
    "from ads.common.auth import default_signer\n",
    "\n",
    "bucket_name = \"YYYYYYYYY\"\n",
    "namespace = 'XXXXXXXXX'\n",
    "file_name = 'listings_summary.csv'\n",
    "\n",
    "df_listings = DatasetFactory.open(f\"oci://{bucket_name}@{namespace}/{file_name}\", storage_options=default_signer(),format='csv', orient='records')\n"
   ]
  },
  {
   "cell_type": "markdown",
   "id": "dd4df1ba",
   "metadata": {},
   "source": [
    "#### A função \"show_in_notebook\" mostra um resumo completo sobre o dataset"
   ]
  },
  {
   "cell_type": "code",
   "execution_count": null,
   "id": "fa16c543",
   "metadata": {},
   "outputs": [],
   "source": [
    "df_listings.show_in_notebook()"
   ]
  },
  {
   "cell_type": "markdown",
   "id": "225a99b9",
   "metadata": {},
   "source": [
    "#### Aqui serão eliminados algumas colunas que não são interessantes para o processo de modelagem"
   ]
  },
  {
   "cell_type": "code",
   "execution_count": null,
   "id": "5082d9d9",
   "metadata": {},
   "outputs": [],
   "source": [
    "df_list_features = df_listings.drop_columns(['CALENDAR_LAST_SCRAPED', 'REVIEW_SCORES_ACCURACY', 'REVIEW_SCORES_CLEANLINESS', 'REVIEW_SCORES_CHECKIN',\n",
    "'REVIEW_SCORES_COMMUNICATION', 'REVIEW_SCORES_LOCATION','REVIEW_SCORES_VALUE','FIRST_REVIEW', 'LAST_REVIEW', 'LICENSE','JURISDICTION_NAMES', \n",
    "'INSTANT_BOOKABLE', 'IS_BUSINESS_TRAVEL_READY','CANCELLATION_POLICY', 'ID', 'LISTING_URL', 'SCRAPE_ID', 'LAST_SCRAPED','NAME', 'THUMBNAIL_URL', \n",
    "'MEDIUM_URL', 'PICTURE_URL', 'XL_PICTURE_URL','HOST_ID', 'HOST_URL', 'HOST_NAME', 'HOST_SINCE', 'HOST_LOCATION','HOST_RESPONSE_TIME', \n",
    "'HOST_RESPONSE_RATE', 'HOST_ACCEPTANCE_RATE', 'HOST_THUMBNAIL_URL', 'HOST_NEIGHBOURHOOD','STREET', 'NEIGHBOURHOOD', 'CITY', 'STATE', 'ZIPCODE', \n",
    "'MARKET','SMART_LOCATION', 'COUNTRY_CODE', 'COUNTRY', 'LATITUDE', 'LONGITUDE', 'AMENITIES', 'PROPERTY_TYPE', 'ROOM_TYPE', 'ACCOMMODATES',\n",
    "'WEEKLY_PRICE', 'MONTHLY_PRICE', 'NEIGHBOURHOOD_CLEANSED','BED_TYPE','NEIGHBOURHOOD_GROUP_CLEANSED', 'SECURITY_DEPOSIT', 'CALENDAR_UPDATED',\n",
    "'HAS_AVAILABILITY', 'AVAILABILITY_30','HOST_VERIFICATIONS', 'SQUARE_FEET', 'CALCULATED_HOST_LISTINGS_COUNT','HOST_TOTAL_LISTINGS_COUNT','HOST_LISTINGS_COUNT']).to_pandas_dataframe()"
   ]
  },
  {
   "cell_type": "markdown",
   "id": "ff728328",
   "metadata": {},
   "source": [
    "#### Validando as Variáveis"
   ]
  },
  {
   "cell_type": "code",
   "execution_count": null,
   "id": "3a0f6a71",
   "metadata": {},
   "outputs": [],
   "source": [
    "df_list_features.info()"
   ]
  },
  {
   "cell_type": "code",
   "execution_count": null,
   "id": "30b75258",
   "metadata": {},
   "outputs": [],
   "source": [
    "df_list_features[['PRICE','CLEANING_FEE','EXTRA_PEOPLE']]"
   ]
  },
  {
   "cell_type": "markdown",
   "id": "a3622ddd",
   "metadata": {},
   "source": [
    "#### Ajuste das variáveis monetárias para correta compreensão dos algoritmos de ML"
   ]
  },
  {
   "cell_type": "code",
   "execution_count": null,
   "id": "d8f5f8ca",
   "metadata": {},
   "outputs": [],
   "source": [
    "df_list_features['PRICE'] = df_list_features['PRICE'].str.replace('$','')\n",
    "df_list_features['PRICE'] = df_list_features['PRICE'].str.replace(',','')\n",
    "df_list_features['CLEANING_FEE'] = df_list_features['CLEANING_FEE'].str.replace('$','')\n",
    "df_list_features['CLEANING_FEE'] = df_list_features['CLEANING_FEE'].str.replace(',','')\n",
    "df_list_features['EXTRA_PEOPLE'] = df_list_features['EXTRA_PEOPLE'].str.replace('$','')\n",
    "df_list_features['EXTRA_PEOPLE'] = df_list_features['EXTRA_PEOPLE'].str.replace(',','')"
   ]
  },
  {
   "cell_type": "code",
   "execution_count": null,
   "id": "8bd148a3",
   "metadata": {},
   "outputs": [],
   "source": [
    "df_list_features[['PRICE','CLEANING_FEE','EXTRA_PEOPLE']] = df_list_features[['PRICE','CLEANING_FEE','EXTRA_PEOPLE']].astype('float64')\n",
    "df_list_features[['PRICE','CLEANING_FEE','EXTRA_PEOPLE']].describe()"
   ]
  },
  {
   "cell_type": "markdown",
   "id": "b282c6c3",
   "metadata": {},
   "source": [
    "#### Ajuste das variáveis binárias para correta compreensão dos algoritmos de ML"
   ]
  },
  {
   "cell_type": "code",
   "execution_count": null,
   "id": "e2a7e3c1",
   "metadata": {},
   "outputs": [],
   "source": [
    "df_list_features['REQUIRES_LICENSE']=df_list_features['REQUIRES_LICENSE'].replace(['t','f'],[1,0])\n",
    "df_list_features['REQUIRE_GUEST_PROFILE_PICTURE']=df_list_features['REQUIRE_GUEST_PROFILE_PICTURE'].replace(['t','f'],[1,0])\n",
    "df_list_features['REQUIRE_GUEST_PHONE_VERIFICATION']=df_list_features['REQUIRE_GUEST_PHONE_VERIFICATION'].replace(['t','f'],[1,0])\n",
    "df_list_features['HOST_IS_SUPERHOST']=df_list_features['HOST_IS_SUPERHOST'].replace(['t','f'],[1,0])\n",
    "df_list_features['HOST_HAS_PROFILE_PIC']=df_list_features['HOST_HAS_PROFILE_PIC'].replace(['t','f'],[1,0])\n",
    "df_list_features['HOST_IDENTITY_VERIFIED']=df_list_features['HOST_IDENTITY_VERIFIED'].replace(['t','f'],[1,0])\n",
    "df_list_features['IS_LOCATION_EXACT']=df_list_features['IS_LOCATION_EXACT'].replace(['t','f'],[1,0])"
   ]
  },
  {
   "cell_type": "code",
   "execution_count": null,
   "id": "0323fe9d",
   "metadata": {},
   "outputs": [],
   "source": [
    "df_list_features[['REQUIRES_LICENSE','REQUIRE_GUEST_PROFILE_PICTURE','REQUIRE_GUEST_PHONE_VERIFICATION','HOST_IS_SUPERHOST','HOST_HAS_PROFILE_PIC','HOST_IDENTITY_VERIFIED','IS_LOCATION_EXACT']]=df_list_features[['HOST_IS_SUPERHOST','REQUIRES_LICENSE','REQUIRE_GUEST_PROFILE_PICTURE','REQUIRE_GUEST_PHONE_VERIFICATION','HOST_HAS_PROFILE_PIC','HOST_IDENTITY_VERIFIED','IS_LOCATION_EXACT']].astype('float64')"
   ]
  },
  {
   "cell_type": "code",
   "execution_count": null,
   "id": "d59dbcc0",
   "metadata": {},
   "outputs": [],
   "source": [
    "df_list_features = DatasetFactory.open(df_list_features)\n",
    "df_list_features = df_list_features.set_target('PRICE')"
   ]
  },
  {
   "cell_type": "markdown",
   "id": "93be6d14",
   "metadata": {},
   "source": [
    "### Após ajustes iremos utilizar a função \"get_recommendations()\" do ADS para verificar se existe mais correções ou transformações no dataframe\n",
    "\n",
    "#### Aparecerá um quadro chamado \"Imputation\", selecionar \"Fill missing values with constant\" para todas as variáveis, após clicar em \"Next\"\n",
    "\n",
    "#### Após aparecerá um quadro chamado \"Multicollinear Columns\", basta clicar em \"Next\" e após em \"Apply\""
   ]
  },
  {
   "cell_type": "code",
   "execution_count": null,
   "id": "cd0868a5",
   "metadata": {},
   "outputs": [],
   "source": [
    "df_list_features.get_recommendations()"
   ]
  },
  {
   "cell_type": "markdown",
   "id": "55aa7233",
   "metadata": {},
   "source": [
    "#### Abaixo salvaremos as alterações realizadas anteriormente"
   ]
  },
  {
   "cell_type": "code",
   "execution_count": null,
   "id": "a406cb5e",
   "metadata": {},
   "outputs": [],
   "source": [
    "df_list_adjusted = df_list_features.get_transformed_dataset()"
   ]
  },
  {
   "cell_type": "markdown",
   "id": "7b7e5acd",
   "metadata": {},
   "source": [
    "#### ---------------------------------------------------------------------------------------------\n",
    "## Exemplo de execução de DataFlow lendo todos os arquivos ORCs em um object storage"
   ]
  },
  {
   "cell_type": "markdown",
   "id": "5f509888",
   "metadata": {},
   "source": [
    "##### Célula de autenticação"
   ]
  },
  {
   "cell_type": "markdown",
   "id": "c531e55c",
   "metadata": {},
   "source": [
    "#### Autenticação utilizando as policies de IAM\n"
   ]
  },
  {
   "cell_type": "code",
   "execution_count": null,
   "id": "43974cc6",
   "metadata": {},
   "outputs": [],
   "source": [
    "ads.set_auth(auth=\"resource_principal\")"
   ]
  },
  {
   "cell_type": "markdown",
   "id": "befa8696",
   "metadata": {},
   "source": [
    "#### crianção de diretorio temporário"
   ]
  },
  {
   "cell_type": "code",
   "execution_count": null,
   "id": "cee7fe5c",
   "metadata": {},
   "outputs": [],
   "source": [
    "dataflow_base_folder = tempfile.mkdtemp()"
   ]
  },
  {
   "cell_type": "markdown",
   "id": "4b1ddfb6",
   "metadata": {},
   "source": [
    "#### Célula de autenticação no Dataflow"
   ]
  },
  {
   "cell_type": "markdown",
   "id": "89f22687",
   "metadata": {},
   "source": [
    "#### criando estrutura de autenticação no dataflow\n"
   ]
  },
  {
   "cell_type": "code",
   "execution_count": null,
   "id": "ab76ba4c",
   "metadata": {},
   "outputs": [],
   "source": [
    "data_flow = DataFlow(dataflow_base_folder=dataflow_base_folder, \n",
    "                     os_auth=authutil.resource_principal({\"timeout\": 60000}), \n",
    "                     df_auth=authutil.resource_principal({\"timeout\": 60000}))\n",
    "print(\"Data flow directory: {}\".format(dataflow_base_folder))"
   ]
  },
  {
   "cell_type": "markdown",
   "id": "a77ca0f4",
   "metadata": {},
   "source": [
    "#### geração de script pyspark\n",
    "#### atualize os valores de bucket_name, namespace e filename"
   ]
  },
  {
   "cell_type": "code",
   "execution_count": null,
   "id": "af3b42e3",
   "metadata": {},
   "outputs": [],
   "source": [
    "pyspark_file_path = path.join(dataflow_base_folder, \"example-{}.py\".format(str(uuid.uuid4())[-6:]))\n",
    "script = '''\n",
    "from pyspark.sql import SparkSession\n",
    "\n",
    "def main():\n",
    "    \n",
    "    # Create a Spark session\n",
    "    spark = SparkSession \\\\\n",
    "        .builder \\\\\n",
    "        .appName(\"Python Spark SQL basic example\") \\\\\n",
    "        .getOrCreate()\n",
    "    \n",
    "    # Load a csv file from dataflow public storage\n",
    "    df = spark \\\\\n",
    "        .read \\\\\n",
    "        .format(\"csv\") \\\\\n",
    "        .option(\"header\", \"true\") \\\\\n",
    "        .option(\"multiLine\", \"true\") \\\\\n",
    "        .load(\"oci://oow_2019_dataflow_lab@bigdatadatasciencelarge/usercontent/kaggle_berlin_airbnb_listings_summary.csv\")\n",
    "    \n",
    "    # Create a temp view and do some SQL operations\n",
    "    df.createOrReplaceTempView(\"berlin\")\n",
    "    query_result_df = spark.sql(\"\"\"\n",
    "        SELECT \n",
    "            city,  \n",
    "            zipcode,  \n",
    "            CONCAT(latitude,',', longitude) AS lat_long\n",
    "        FROM berlin \n",
    "    \"\"\")\n",
    "    \n",
    "    # Convert the filtered Apache Spark DataFrame into JSON format\n",
    "    # Note: we are writing to the spark stdout log so that we can retrieve the log later at the end of the notebook.\n",
    "    print('\\\\n'.join(query_result_df.toJSON().collect()))\n",
    "    \n",
    "if __name__ == '__main__':\n",
    "    main()\n",
    "'''\n",
    "\n",
    "with open(pyspark_file_path, 'w') as f:\n",
    "    print(script.strip(), file=f)\n",
    "    \n",
    "print(\"Script path: {}\".format(pyspark_file_path))"
   ]
  },
  {
   "cell_type": "markdown",
   "id": "842b4fda",
   "metadata": {},
   "source": [
    "#### carga do script no buckt e criação da configuração aplicação do Dataflow"
   ]
  },
  {
   "cell_type": "code",
   "execution_count": null,
   "id": "12b5df7f",
   "metadata": {},
   "outputs": [],
   "source": [
    "script_bucket = \"fast_track_bucket\"        \n",
    "logs_bucket = \"dataflow-log\"               \n",
    "display_name = \"sample_Data_Flow_app\" \n",
    "\n",
    "app_config = data_flow.prepare_app(display_name = 'sample Data Flow',\n",
    "                                   script_bucket=script_bucket,\n",
    "                                   pyspark_file_path=pyspark_file_path,\n",
    "                                   logs_bucket=logs_bucket,\n",
    "                                   #archive_bucket = archive_bucket,\n",
    "                                   #archive_path = archive_path,\n",
    "                                   driver_shape = 'VM.Standard2.1',\n",
    "                                   executor_shape = 'VM.Standard2.1',\n",
    "                                   num_executors = 1\n",
    "                                  )"
   ]
  },
  {
   "cell_type": "markdown",
   "id": "1f3028c8",
   "metadata": {},
   "source": [
    "#### publicação do aplicativo pyspark no Dataflow"
   ]
  },
  {
   "cell_type": "code",
   "execution_count": null,
   "id": "42b8b094",
   "metadata": {},
   "outputs": [],
   "source": [
    "app = data_flow.create_app(app_config, overwrite_script = True, overwrite_archive = True)\n",
    "app.config"
   ]
  },
  {
   "cell_type": "markdown",
   "id": "5f3660ce",
   "metadata": {},
   "source": [
    "#### link de acesso à aplicação"
   ]
  },
  {
   "cell_type": "code",
   "execution_count": null,
   "id": "ae5c7370",
   "metadata": {},
   "outputs": [],
   "source": [
    "app.oci_link"
   ]
  },
  {
   "cell_type": "markdown",
   "id": "7bc8d664",
   "metadata": {},
   "source": [
    "#### criando uma execução da Aplicação"
   ]
  },
  {
   "cell_type": "code",
   "execution_count": null,
   "id": "80363295",
   "metadata": {},
   "outputs": [],
   "source": [
    "run_display_name = \"sample_Data_Flow_exec\"\n",
    "run_config = app.prepare_run(run_display_name=run_display_name,\n",
    "                            driver_shape = 'VM.Standard2.1',\n",
    "                            executor_shape = 'VM.Standard2.1',\n",
    "                            num_executors = 1)"
   ]
  },
  {
   "cell_type": "markdown",
   "id": "27f63ed0",
   "metadata": {},
   "source": [
    "#### executando a aplicação"
   ]
  },
  {
   "cell_type": "code",
   "execution_count": null,
   "id": "b2e9fafb",
   "metadata": {},
   "outputs": [],
   "source": [
    "%%time\n",
    "\n",
    "run = app.run(run_config, save_log_to_local=False)"
   ]
  },
  {
   "cell_type": "markdown",
   "id": "f7ca3234",
   "metadata": {},
   "source": [
    "#### checando o resultando da execução"
   ]
  },
  {
   "cell_type": "code",
   "execution_count": null,
   "id": "9d5975df",
   "metadata": {},
   "outputs": [],
   "source": [
    "run.status"
   ]
  },
  {
   "cell_type": "markdown",
   "id": "ce6f3b90",
   "metadata": {},
   "source": [
    "#### carregando os resultados da aplicação"
   ]
  },
  {
   "cell_type": "code",
   "execution_count": null,
   "id": "d8498c69",
   "metadata": {},
   "outputs": [],
   "source": [
    "run.fetch_log(\"stdout\").save()\n",
    "run.fetch_log(\"stderr\").save()"
   ]
  },
  {
   "cell_type": "markdown",
   "id": "6e3603c9",
   "metadata": {},
   "source": [
    "#### exibindo o resultado em um Pandas Dataframe"
   ]
  },
  {
   "cell_type": "code",
   "execution_count": null,
   "id": "634a4b49",
   "metadata": {},
   "outputs": [],
   "source": [
    "ds_df = DatasetFactory.open(pd.read_json((str(run.log_stdout)), lines=True))\n",
    "ds_df.head()"
   ]
  },
  {
   "cell_type": "markdown",
   "id": "9db7d4ce",
   "metadata": {},
   "source": [
    "#### ------------------------------------------------------------------------------------------\n",
    "### Voltando ao processo de modelagem e MLOps\n",
    "#### Com o dataframe com todas as informações corretas, iremos separá-lo em treino e teste"
   ]
  },
  {
   "cell_type": "code",
   "execution_count": null,
   "id": "2a6fb5a4",
   "metadata": {},
   "outputs": [],
   "source": [
    "train, test = df_list_adjusted.train_test_split(test_size = 0.10, random_state=13)"
   ]
  },
  {
   "cell_type": "markdown",
   "id": "a44e2cba",
   "metadata": {},
   "source": [
    "#### Configurando como a instância trabalhará com processamento paralelo durante o processo de modelagem\n",
    "#### - A quatidade de 'n_jobs' deverá ser colocado quandos OCPUs tem a máquina, que neste exemplo possui 16"
   ]
  },
  {
   "cell_type": "code",
   "execution_count": null,
   "id": "69c9a918",
   "metadata": {},
   "outputs": [],
   "source": [
    "init(engine='local', engine_opts={'n_jobs' :16, 'model_n_jobs' : 2}, loglevel=logging.INFO)"
   ]
  },
  {
   "cell_type": "markdown",
   "id": "3a4b1188",
   "metadata": {},
   "source": [
    "#### Determinando qual será o tipo de modelagem"
   ]
  },
  {
   "cell_type": "code",
   "execution_count": null,
   "id": "4fcaf21c",
   "metadata": {},
   "outputs": [],
   "source": [
    "Est = Pipeline(task='regression')"
   ]
  },
  {
   "cell_type": "markdown",
   "id": "53b31053",
   "metadata": {},
   "source": [
    "### Iniciando o AutoML para gerar o melhor modelo preditor dos valores de aluguéis diários"
   ]
  },
  {
   "cell_type": "code",
   "execution_count": null,
   "id": "d09b69b6",
   "metadata": {},
   "outputs": [],
   "source": [
    "Est.fit(train.X,train.y)"
   ]
  },
  {
   "cell_type": "markdown",
   "id": "23b731a0",
   "metadata": {},
   "source": [
    "#### Validando a Acurácia do Treino e Teste, e também verificando quais foram as features selecionadas no processo de modelagem"
   ]
  },
  {
   "cell_type": "code",
   "execution_count": null,
   "id": "1b1595c7",
   "metadata": {},
   "outputs": [],
   "source": [
    "automl_model = ADSModel.from_estimator(Est)\n",
    "\n",
    "print(\"\\n\\n AutoML Model Train Score: {}\\n\\n AutoML Model Test Score: {}\\n\\n Features Selected: {}\\n\\n\".format(automl_model.score(train.X, train.y),automl_model.score(test.X, test.y),Est.selected_features_names_))"
   ]
  },
  {
   "cell_type": "markdown",
   "id": "1a538347",
   "metadata": {},
   "source": [
    "### Agora Validações mais detalhadas utilizando a biblioteca ADS"
   ]
  },
  {
   "cell_type": "code",
   "execution_count": null,
   "id": "7322e989",
   "metadata": {},
   "outputs": [],
   "source": [
    "dt_model = ADSModel.from_estimator(Est)\n",
    "single_evaluator = ADSEvaluator(test, models=[dt_model])"
   ]
  },
  {
   "cell_type": "code",
   "execution_count": null,
   "id": "0123b6ae",
   "metadata": {},
   "outputs": [],
   "source": [
    "single_evaluator.metrics"
   ]
  },
  {
   "cell_type": "code",
   "execution_count": null,
   "id": "3f1b3a10",
   "metadata": {},
   "outputs": [],
   "source": [
    "single_evaluator.show_in_notebook()"
   ]
  },
  {
   "cell_type": "code",
   "execution_count": null,
   "id": "31703048",
   "metadata": {},
   "outputs": [],
   "source": [
    "explainer = ADSExplainer(test, dt_model, training_data=train)\n",
    "mlx.initjs()"
   ]
  },
  {
   "cell_type": "code",
   "execution_count": null,
   "id": "3be9fdb3",
   "metadata": {},
   "outputs": [],
   "source": [
    "pi_exp = PermutationImportance()\n",
    "pi_exp.show_in_notebook()"
   ]
  },
  {
   "cell_type": "code",
   "execution_count": null,
   "id": "aac123b2",
   "metadata": {},
   "outputs": [],
   "source": [
    "global_explainer = explainer.global_explanation(\n",
    "                     provider=MLXGlobalExplainer())"
   ]
  },
  {
   "cell_type": "code",
   "execution_count": null,
   "id": "527cbd2b",
   "metadata": {},
   "outputs": [],
   "source": [
    "importances = global_explainer.compute_feature_importance()"
   ]
  },
  {
   "cell_type": "code",
   "execution_count": null,
   "id": "4675541a",
   "metadata": {},
   "outputs": [],
   "source": [
    "importances.show_in_notebook()"
   ]
  },
  {
   "cell_type": "code",
   "execution_count": null,
   "id": "335259fa",
   "metadata": {},
   "outputs": [],
   "source": [
    "importances.show_in_notebook('box_plot')"
   ]
  },
  {
   "cell_type": "markdown",
   "id": "42534cd2",
   "metadata": {},
   "source": [
    "#### Gráficos para avaliar como foi o processo automático de Amostragem Adaptativa, Seleção de Features e Ajuste de Hiperparâmetros"
   ]
  },
  {
   "cell_type": "code",
   "execution_count": null,
   "id": "7cc15ecb",
   "metadata": {},
   "outputs": [],
   "source": [
    "adap_sample(Est)"
   ]
  },
  {
   "cell_type": "code",
   "execution_count": null,
   "id": "7edae482",
   "metadata": {},
   "outputs": [],
   "source": [
    "feat_selec(Est)"
   ]
  },
  {
   "cell_type": "code",
   "execution_count": null,
   "id": "a2daa1b4",
   "metadata": {},
   "outputs": [],
   "source": [
    "hyper_tuning(Est)"
   ]
  },
  {
   "cell_type": "markdown",
   "id": "4b5d86fa",
   "metadata": {},
   "source": [
    "### Processo de MLOps\n",
    "\n",
    "#### Salvando o modelo no Model Catalog"
   ]
  },
  {
   "cell_type": "code",
   "execution_count": null,
   "id": "07ed0e05",
   "metadata": {},
   "outputs": [],
   "source": [
    "compartment_id = os.environ['NB_SESSION_COMPARTMENT_OCID']\n",
    "project_id = os.environ['PROJECT_OCID']"
   ]
  },
  {
   "cell_type": "code",
   "execution_count": null,
   "id": "8d910b7b",
   "metadata": {},
   "outputs": [],
   "source": [
    "artifact_path = '/home/datascience/cliente/modelo_pricing'\n",
    "artifact_model = automl_model.prepare(artifact_path, force_overwrite=True, \n",
    "                                     data_sample=test, data_science_env=True)"
   ]
  },
  {
   "cell_type": "code",
   "execution_count": null,
   "id": "d766af70",
   "metadata": {},
   "outputs": [],
   "source": [
    "mc_model = artifact_model.save(project_id=project_id, compartment_id=compartment_id, \n",
    "                               display_name=\"Modelo_Preditor_Precos_cliente\", \n",
    "                               description=\"Modelo Preditor Gerado pelo AutoML\", \n",
    "                               ignore_pending_changes=True)"
   ]
  },
  {
   "cell_type": "code",
   "execution_count": null,
   "id": "dc359e8e",
   "metadata": {},
   "outputs": [],
   "source": [
    "model_id = mc_model.id\n",
    "print(f\"Model OCID: {model_id}\")"
   ]
  },
  {
   "cell_type": "markdown",
   "id": "9e300e87",
   "metadata": {},
   "source": [
    "#### Configuração da instância que receberá o modelo em produção"
   ]
  },
  {
   "cell_type": "code",
   "execution_count": null,
   "id": "ebbc5cda",
   "metadata": {},
   "outputs": [],
   "source": [
    "model_configuration_details_object = ModelConfigurationDetails(model_id=model_id,\n",
    "                                                               instance_configuration=InstanceConfiguration(instance_shape_name='VM.Standard2.1'),\n",
    "                                                               scaling_policy=FixedSizeScalingPolicy(instance_count=1),\n",
    "                                                               bandwidth_mbps=20)"
   ]
  },
  {
   "cell_type": "code",
   "execution_count": null,
   "id": "c7fca96c",
   "metadata": {},
   "outputs": [],
   "source": [
    "single_model_config = SingleModelDeploymentConfigurationDetails(deployment_type='SINGLE_MODEL',\n",
    "                                                                model_configuration_details=model_configuration_details_object)"
   ]
  },
  {
   "cell_type": "markdown",
   "id": "201790ed",
   "metadata": {},
   "source": [
    "#### Criando grupo de logs para acompanhamento dos modelos em produção"
   ]
  },
  {
   "cell_type": "code",
   "execution_count": null,
   "id": "593d5b7a",
   "metadata": {},
   "outputs": [],
   "source": [
    "log_group_name = \"ModelDeployment-Princing-cliente\"\n",
    "access_log_name = \"Access_Log\"\n",
    "predict_log_name = \"Predict_Log\"\n",
    "\n",
    "log_group = OCILogGroup(display_name=log_group_name).create()\n",
    "log_group_ocid = log_group.id\n",
    "print(f\"Log group OCID: {log_group_ocid}\")\n",
    "\n",
    "access_log = log_group.create_log(access_log_name)\n",
    "access_log_ocid = access_log.id\n",
    "print(f\"Access log OCID: {access_log_ocid}\")\n",
    "\n",
    "# Create a predict log in the log group\n",
    "predict_log = log_group.create_log(predict_log_name)\n",
    "predict_log_ocid = predict_log.id\n",
    "print(f\"Predict log OCID: {predict_log_ocid}\")\n",
    "\n",
    "logs_configuration_details_object = CategoryLogDetails(access=LogDetails(log_group_id=log_group_ocid,\n",
    "                                                                         log_id=access_log_ocid),\n",
    "                                                       predict=LogDetails(log_group_id=log_group_ocid,\n",
    "                                                                          log_id=predict_log_ocid))"
   ]
  },
  {
   "cell_type": "markdown",
   "id": "1652a8f0",
   "metadata": {},
   "source": [
    "#### Configurando os detalhes do modelo antes de colocá-lo em produção"
   ]
  },
  {
   "cell_type": "code",
   "execution_count": null,
   "id": "664a958b",
   "metadata": {},
   "outputs": [],
   "source": [
    "model_deploy_configuration = CreateModelDeploymentDetails(display_name='Predicao de Preços de Alugueis',\n",
    "                                                          description='Modelo de predicao de valores de alugueis diarios',\n",
    "                                                          project_id=os.environ['PROJECT_OCID'],\n",
    "                                                          compartment_id=os.environ['NB_SESSION_COMPARTMENT_OCID'],\n",
    "                                                          model_deployment_configuration_details=single_model_config,\n",
    "                                                          category_log_details=logs_configuration_details_object\n",
    "                                                         )"
   ]
  },
  {
   "cell_type": "markdown",
   "id": "a63c1950",
   "metadata": {},
   "source": [
    "### Autenticação e aplicando as configurações para colocar o modelo em produção"
   ]
  },
  {
   "cell_type": "code",
   "execution_count": null,
   "id": "2341e662",
   "metadata": {},
   "outputs": [],
   "source": [
    "auth = oci.auth.signers.get_resource_principals_signer()\n",
    "data_science = DataScienceClient({}, signer=auth)\n",
    "data_science_composite = DataScienceClientCompositeOperations(data_science)"
   ]
  },
  {
   "cell_type": "markdown",
   "id": "68197467",
   "metadata": {},
   "source": [
    "### Este processo levará de 13 a 15 minutos, pois é aqui onde as instâncias são provisionadas e configuradas"
   ]
  },
  {
   "cell_type": "code",
   "execution_count": null,
   "id": "6ea8fa1e",
   "metadata": {},
   "outputs": [],
   "source": [
    "%%time\n",
    "# Creating a model deployment. This action takes a few minutes\n",
    "\n",
    "deployer = data_science_composite.create_model_deployment_and_wait_for_state(\n",
    "    model_deploy_configuration, \n",
    "    wait_for_states=[\"SUCCEEDED\", \"FAILED\"]\n",
    ")"
   ]
  },
  {
   "cell_type": "markdown",
   "id": "95077c8b",
   "metadata": {},
   "source": [
    "#### Obtendo a identificação do modelo em produção"
   ]
  },
  {
   "cell_type": "code",
   "execution_count": null,
   "id": "5e26af52",
   "metadata": {},
   "outputs": [],
   "source": [
    "deployer = ModelDeployer()\n",
    "\n",
    "for active in deployer.list_deployments(status=\"ACTIVE\", compartment_id=compartment_id):\n",
    "    deployment_id = active.properties.id\n",
    "    print(active.properties.id)"
   ]
  },
  {
   "cell_type": "code",
   "execution_count": null,
   "id": "882d9ad4",
   "metadata": {},
   "outputs": [],
   "source": [
    "deployer.list_deployments(status=\"ACTIVE\", compartment_id=compartment_id)"
   ]
  },
  {
   "cell_type": "markdown",
   "id": "7097e48f",
   "metadata": {},
   "source": [
    "### Preparando os acessos para enviar requisições para gerar previsões com o modelo criado e em produção"
   ]
  },
  {
   "cell_type": "code",
   "execution_count": null,
   "id": "d9360aef",
   "metadata": {},
   "outputs": [],
   "source": [
    "deployment = deployer.get_model_deployment(model_deployment_id=)\n",
    "print(f\"deployment OCID: {deployment.model_deployment_id}\\n\" +\n",
    "      f\"existing deployment OCID: {deployment.model_deployment_id}\")"
   ]
  },
  {
   "cell_type": "markdown",
   "id": "56574bef",
   "metadata": {},
   "source": [
    "### Pegando um conjunto de informações para gerar previsão de vendas através do modelo em produção"
   ]
  },
  {
   "cell_type": "code",
   "execution_count": null,
   "id": "93887b84",
   "metadata": {},
   "outputs": [],
   "source": [
    "pred = df_list_adjusted.to_pandas_dataframe()\n",
    "pred = pred.drop(columns = [\"PRICE\"])"
   ]
  },
  {
   "cell_type": "code",
   "execution_count": null,
   "id": "b76f3a94",
   "metadata": {},
   "outputs": [],
   "source": [
    "deployment.predict(pred[513:514].to_json())"
   ]
  },
  {
   "cell_type": "markdown",
   "id": "1c8532aa",
   "metadata": {},
   "source": [
    "### Conjunto das variável para poder mudar os valores e solicitar a previsão do valor do aluguel diário\n",
    "\n",
    "### ***Atenção: Alterar os valores que estão entre {\"0\":XX.X}, aqui representados pelos \"X\"!!!"
   ]
  },
  {
   "cell_type": "code",
   "execution_count": null,
   "id": "00674506",
   "metadata": {},
   "outputs": [],
   "source": [
    "deployment.predict('{\"AVAILABILITY_60\":{\"0\":20.0},\"AVAILABILITY_365\":{\"0\":200.0},\"NUMBER_OF_REVIEWS\":{\"0\":200.0},\"REVIEW_SCORES_RATING\":{\"0\":97.0},\"REQUIRES_LICENSE\":{\"0\":0.0},\"REQUIRE_GUEST_PROFILE_PICTURE\":{\"0\":1.0},\"REQUIRE_GUEST_PHONE_VERIFICATION\":{\"0\":0.0},\"CALCULATED_HOST_LISTINGS_COUNT\":{\"0\":1.0},\"REVIEWS_PER_MONTH\":{\"0\":100.0},\"HOST_IS_SUPERHOST\":{\"0\":0.0},\"HOST_TOTAL_LISTINGS_COUNT\":{\"0\":3.0},\"HOST_HAS_PROFILE_PIC\":{\"0\":1.0},\"HOST_IDENTITY_VERIFIED\":{\"0\":1.0},\"IS_LOCATION_EXACT\":{\"0\":1.0},\"BATHROOMS\":{\"0\":1.0},\"BEDROOMS\":{\"0\":5.0},\"BEDS\":{\"0\":8.0},\"CLEANING_FEE\":{\"0\":0.0},\"GUESTS_INCLUDED\":{\"0\":1.0},\"EXTRA_PEOPLE\":{\"0\":20.0},\"MINIMUM_NIGHTS\":{\"0\":30.0},\"MAXIMUM_NIGHTS\":{\"0\":300.0}}')"
   ]
  }
 ],
 "metadata": {
  "kernelspec": {
   "display_name": "Python [conda env:generalml_p37_cpu_v1]",
   "language": "python",
   "name": "conda-env-generalml_p37_cpu_v1-py"
  },
  "language_info": {
   "codemirror_mode": {
    "name": "ipython",
    "version": 3
   },
   "file_extension": ".py",
   "mimetype": "text/x-python",
   "name": "python",
   "nbconvert_exporter": "python",
   "pygments_lexer": "ipython3",
   "version": "3.7.12"
  }
 },
 "nbformat": 4,
 "nbformat_minor": 5
}
